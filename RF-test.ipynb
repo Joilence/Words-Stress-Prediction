{
 "cells": [
  {
   "cell_type": "code",
   "execution_count": 12,
   "metadata": {},
   "outputs": [],
   "source": [
    "import helper\n",
    "import pickle\n",
    "import re\n",
    "import pandas\n",
    "import numpy as np\n",
    "from sklearn.model_selection import KFold\n",
    "from sklearn.naive_bayes import MultinomialNB,BernoulliNB\n",
    "from sklearn.preprocessing import LabelEncoder\n",
    "from sklearn.feature_extraction import DictVectorizer\n",
    "from sklearn.metrics import f1_score\n",
    "from sklearn.preprocessing import label_binarize\n",
    "\n",
    "from sklearn.ensemble import RandomForestClassifier\n",
    "from sklearn.grid_search import GridSearchCV\n",
    "\n",
    "from submission import *"
   ]
  },
  {
   "cell_type": "code",
   "execution_count": 2,
   "metadata": {
    "collapsed": true
   },
   "outputs": [],
   "source": [
    "training_data = helper.read_data('./asset/training_data.txt')\n",
    "\n",
    "def transform_training_data(data):\n",
    "    after_transformed = []\n",
    "    non_decimal = re.compile('\\d')\n",
    "    for d in data:\n",
    "        after_transformed.append(non_decimal.sub('', d))\n",
    "    return after_transformed\n",
    "def get_stress(data):\n",
    "    result = []\n",
    "    for d in data:\n",
    "        index = 1\n",
    "        d = d.split(':')[1]\n",
    "        for u in d.split(' '):\n",
    "            if re.match('^[A-Za-z]+[0-9]$', u):\n",
    "                if u.endswith('1'):\n",
    "                    result.append(index)\n",
    "                    break\n",
    "                index += 1\n",
    "    return result\n",
    "\n",
    "training_data = np.array(training_data)"
   ]
  },
  {
   "cell_type": "code",
   "execution_count": 6,
   "metadata": {
    "collapsed": true
   },
   "outputs": [],
   "source": [
    "def isConsonant(u):\n",
    "    consonant = ['P', 'B', 'CH', 'D', 'DH', 'F', 'G', 'HH', 'JH', 'K', 'L', 'M', 'N',\n",
    "                'NG', 'R', 'S', 'SH', 'T', 'TH', 'V', 'W', 'Y', 'Z', 'ZH']\n",
    "    try:\n",
    "        consonant.index(u)\n",
    "    except:\n",
    "        return False;\n",
    "    else:\n",
    "        return True;\n",
    "\n",
    "def line_parser(line, isTest):\n",
    "    data = {}\n",
    "    data['wd'] = line.split(':')[0]\n",
    "\n",
    "    ### 特征：字长\n",
    "    data['len'] = len(data['wd'])\n",
    "\n",
    "    ### 特征：特殊后缀\n",
    "    specialSuffix = ['TION', 'BLE', 'ING', 'ED', 'IVE']\n",
    "    for s in specialSuffix:\n",
    "        if data['wd'].endswith(s):\n",
    "            data[s] = 1\n",
    "    data['ph'] = line.split(':')[1]\n",
    "\n",
    "    ### 特征：音标数\n",
    "    data['total_num_ph'] = len(data['ph'].split(' '))\n",
    "\n",
    "    ### 特征：元音数\n",
    "    data['v_num'] = 0\n",
    "    index = 1\n",
    "    temp = 0\n",
    "    for u in data['ph'].split(' '):\n",
    "        if True == isTest:\n",
    "            if isConsonant(u):\n",
    "                continue;\n",
    "            else:\n",
    "                data['v_num'] += 1\n",
    "                #data[u] = index\n",
    "                data[str(index)] = u\n",
    "                index += 1\n",
    "        else:\n",
    "             if re.match('^[A-Za-z]+[0-9]$', u):\n",
    "                #print(u)\n",
    "                data['v_num'] += 1\n",
    "                #data[u[:-1]] = index\n",
    "                data[str(index)] = u[:-1]\n",
    "                if u.endswith('1'):\n",
    "                    temp = index\n",
    "                index += 1\n",
    "\n",
    "    ### 特征：每个元音之前的辅音数\n",
    "    ph = data['ph'].split(' ')\n",
    "    index = 1\n",
    "    s = 0\n",
    "    for i in range(0, len(ph)):\n",
    "        if isConsonant(ph[i]) == True:\n",
    "            s += 1\n",
    "        else:\n",
    "            data['consonant' + str(index)] = s\n",
    "            index += 1\n",
    "            s = 0\n",
    "\n",
    "    ### 特征：元音距离占比密度\n",
    "\n",
    "    ### 特征：\n",
    "\n",
    "    ### 删除辅助属性\n",
    "    data.pop('ph')\n",
    "    data.pop('wd')\n",
    "    if True == isTest:\n",
    "        return data\n",
    "    else:\n",
    "        return data, temp"
   ]
  },
  {
   "cell_type": "code",
   "execution_count": 7,
   "metadata": {
    "collapsed": true
   },
   "outputs": [],
   "source": [
    "features = []\n",
    "for data in training_data:\n",
    "    features.append(line_parser(data, False))\n",
    "\n",
    "encoder = LabelEncoder()\n",
    "vectorizer = DictVectorizer(dtype=int, sparse=False)\n",
    "x, y = list(zip(*features))\n",
    "x = vectorizer.fit_transform(x)\n",
    "y = encoder.fit_transform(y)"
   ]
  },
  {
   "cell_type": "code",
   "execution_count": 13,
   "metadata": {},
   "outputs": [
    {
     "data": {
      "text/plain": [
       "([mean: 0.94767, std: 0.00316, params: {'n_estimators': 50},\n",
       "  mean: 0.94779, std: 0.00331, params: {'n_estimators': 60},\n",
       "  mean: 0.94787, std: 0.00310, params: {'n_estimators': 70}],\n",
       " {'n_estimators': 70},\n",
       " 0.9478679504707038)"
      ]
     },
     "execution_count": 13,
     "metadata": {},
     "output_type": "execute_result"
    }
   ],
   "source": [
    "param_test1 = {'n_estimators': [50, 60, 70]}\n",
    "gsearch1 = GridSearchCV(estimator = RandomForestClassifier(min_samples_split=100,\n",
    "                                min_samples_leaf=20,max_depth=8,max_features='sqrt' ,random_state=10), \n",
    "                    param_grid = param_test1, scoring='roc_auc',cv=5)\n",
    "y_post = label_binarize(y, classes=[0, 1, 2, 3])\n",
    "gsearch1.fit(x,y_post)\n",
    "gsearch1.grid_scores_, gsearch1.best_params_, gsearch1.best_score_"
   ]
  },
  {
   "cell_type": "code",
   "execution_count": null,
   "metadata": {
    "collapsed": true
   },
   "outputs": [],
   "source": []
  }
 ],
 "metadata": {
  "kernelspec": {
   "display_name": "Python 3",
   "language": "python",
   "name": "python3"
  },
  "language_info": {
   "codemirror_mode": {
    "name": "ipython",
    "version": 3
   },
   "file_extension": ".py",
   "mimetype": "text/x-python",
   "name": "python",
   "nbconvert_exporter": "python",
   "pygments_lexer": "ipython3",
   "version": "3.6.1"
  }
 },
 "nbformat": 4,
 "nbformat_minor": 2
}
